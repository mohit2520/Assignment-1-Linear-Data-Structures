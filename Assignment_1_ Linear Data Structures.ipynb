{
 "cells": [
  {
   "cell_type": "code",
   "execution_count": 29,
   "id": "c9e8790f",
   "metadata": {},
   "outputs": [
    {
     "name": "stdout",
     "output_type": "stream",
     "text": [
      "enter the numbers for list 10 12 10 15 -1 7 6 5 4 2 1 1 1\n",
      "[10, 12, 10, 15, -1, 7, 6, 5, 4, 2, 1, 1, 1]\n",
      "Enter the sum to sect posibility :11\n",
      "11\n",
      "13\n",
      "no of pairs : 9\n"
     ]
    }
   ],
   "source": [
    "#Q1. Write a program to find all pairs of an integer array whose sum is equal to a given number?\n",
    "\n",
    "def get_count(array,n,Sum):\n",
    "    count=0\n",
    "    for i in range(0,n):\n",
    "        for j in range(i+1,n):\n",
    "            if array[i]+array[j]==Sum :\n",
    "                count+=1\n",
    "    return count\n",
    "array=[int(x) for x in input(\"enter the numbers for list \").split()]\n",
    "print(array)\n",
    "Sum=int(input(\"Enter the sum to sect posibility :\"))\n",
    "print(Sum)\n",
    "n=len(array)\n",
    "print(n)\n",
    "p=get_count(array,n,Sum)\n",
    "print(\"no of pairs :\",p)"
   ]
  },
  {
   "cell_type": "markdown",
   "id": "d7df4d9a",
   "metadata": {},
   "source": []
  },
  {
   "cell_type": "code",
   "execution_count": 21,
   "id": "c4d45d8d",
   "metadata": {},
   "outputs": [
    {
     "name": "stdout",
     "output_type": "stream",
     "text": [
      "enter the numbers for list 1 2 3 4 5 6\n",
      "[6, 5, 4, 3, 2, 1]\n"
     ]
    }
   ],
   "source": [
    "#Q2.Write a program to reverse an array in place? In place means you cannot create a new array. \n",
    "# You have to update the original array.\n",
    "def get_count(array,n,i):\n",
    "    for i in range(n//2):\n",
    "        array[i],array[n-1]=array[n-1],array[i]\n",
    "        n-=1\n",
    "        i+=1\n",
    "    print(array)\n",
    "array=[int(x) for x in input(\"enter the numbers for list \").split()]\n",
    "n=len(array)\n",
    "i=0\n",
    "get_count(array,n,i)"
   ]
  },
  {
   "cell_type": "code",
   "execution_count": null,
   "id": "ee8cf7ee",
   "metadata": {},
   "outputs": [],
   "source": []
  },
  {
   "cell_type": "code",
   "execution_count": null,
   "id": "7397f9f0",
   "metadata": {},
   "outputs": [],
   "source": []
  },
  {
   "cell_type": "code",
   "execution_count": 22,
   "id": "3493bf5d",
   "metadata": {},
   "outputs": [
    {
     "name": "stdout",
     "output_type": "stream",
     "text": [
      "Strings are rotations of each other\n"
     ]
    }
   ],
   "source": [
    "#Q3.Write a program to check if two strings are a rotation of each other?\n",
    "def checkString(s1, s2, indexFound, Size):\n",
    "    for i in range(Size):\n",
    " \n",
    "        # check whether the character is equal or not\n",
    "        if(s1[i] != s2[(indexFound + i) % Size]):\n",
    "            return False\n",
    " \n",
    "        # %Size keeps (indexFound+i) in bounds,\n",
    "        # since it ensures it's value is always less than Size\n",
    "    return True\n",
    " \n",
    " \n",
    "# driver code\n",
    "s1 = \"abcd\"\n",
    "s2 = \"cdab\"\n",
    " \n",
    "if(len(s1) != len(s2)):\n",
    "    print(\"s2 is not a rotation on s1\")\n",
    " \n",
    "else:\n",
    " \n",
    "    indexes = []  # store occurrences of the first character of s1\n",
    "    Size = len(s1)\n",
    "    firstChar = s1[0]\n",
    "    for i in range(Size):\n",
    "        if(s2[i] == firstChar):\n",
    "            indexes.append(i)\n",
    " \n",
    "    isRotation = False\n",
    " \n",
    "    # check if the strings are rotation of each other\n",
    "    # for every occurrence of firstChar in s2\n",
    "    for idx in indexes:\n",
    " \n",
    "        isRotation = checkString(s1, s2, idx, Size)\n",
    " \n",
    "        if(isRotation):\n",
    "            break\n",
    " \n",
    "    if(isRotation):\n",
    "        print(\"Strings are rotations of each other\")\n",
    "    else:\n",
    "        print(\"Strings are not rotations of each other\")"
   ]
  },
  {
   "cell_type": "code",
   "execution_count": null,
   "id": "e15ec978",
   "metadata": {},
   "outputs": [],
   "source": [
    "\n",
    "\n",
    "        "
   ]
  },
  {
   "cell_type": "code",
   "execution_count": 47,
   "id": "43dff4e8",
   "metadata": {},
   "outputs": [
    {
     "name": "stdout",
     "output_type": "stream",
     "text": [
      "First non-repeating character is @\n"
     ]
    }
   ],
   "source": [
    "#Q4. Write a program to print the first non-repeated character from a string?\n",
    "NO_OF_CHARS = 256\n",
    "def getCharCountArray(string):\n",
    "    count = [0] * NO_OF_CHARS\n",
    "    for i in string:\n",
    "        count[ord(i)]+= 1\n",
    "        \n",
    "    return count\n",
    "\n",
    "def firstNonRepeating(string):\n",
    "    count = getCharCountArray(string)\n",
    "    index = -1\n",
    "    k = 0\n",
    " \n",
    "    for i in string:\n",
    "        if count[ord(i)] == 1:\n",
    "            index = k\n",
    "            break\n",
    "        k += 1\n",
    " \n",
    "    return index\n",
    "\n",
    "string = \"ABCDA@YIREVBCYD\"\n",
    "index = firstNonRepeating(string)\n",
    "if index == 1:\n",
    "    print (\"Either all characters are repeating or string is empty\")\n",
    "else:\n",
    "    print (\"First non-repeating character is\" , string[index])\n",
    " \n"
   ]
  },
  {
   "cell_type": "code",
   "execution_count": null,
   "id": "def737d2",
   "metadata": {},
   "outputs": [],
   "source": []
  },
  {
   "cell_type": "code",
   "execution_count": 4,
   "id": "9e05acab",
   "metadata": {},
   "outputs": [
    {
     "name": "stdout",
     "output_type": "stream",
     "text": [
      "Move disk 1 from rod A to rod C\n",
      "Move disk 2 from rod A to rod B\n",
      "Move disk 1 from rod C to rod B\n",
      "Move disk 3 from rod A to rod C\n",
      "Move disk 1 from rod B to rod A\n",
      "Move disk 2 from rod B to rod C\n",
      "Move disk 1 from rod A to rod C\n"
     ]
    }
   ],
   "source": [
    "#Q5. Read about the Tower of Hanoi algorithm. Write a program to implement it\n",
    "\n",
    " \n",
    "def TowerOfHanoi(n, from_rod, to_rod, aux_rod):\n",
    "    if n == 0:\n",
    "        return\n",
    " \n",
    "    TowerOfHanoi(n-1, from_rod, aux_rod, to_rod)\n",
    "    print(\"Move disk\", n, \"from rod\", from_rod, \"to rod\", to_rod)\n",
    "    TowerOfHanoi(n-1, aux_rod, to_rod, from_rod)\n",
    "\n",
    "N = 3\n",
    " \n",
    "TowerOfHanoi(N, 'A', 'C', 'B')"
   ]
  },
  {
   "cell_type": "code",
   "execution_count": 15,
   "id": "f6e1db62",
   "metadata": {},
   "outputs": [
    {
     "name": "stdout",
     "output_type": "stream",
     "text": [
      "Prefix :  +AB-CD\n"
     ]
    }
   ],
   "source": [
    "#Q6. Read about infix, prefix, and postfix expressions. Write a program to convert postfix to prefix expression.\n",
    "\n",
    "def isOperator(x):\n",
    " \n",
    "    if x == \"+\":\n",
    "        return True\n",
    " \n",
    "    if x == \"-\":\n",
    "        return True\n",
    " \n",
    "    if x == \"/\":\n",
    "        return True\n",
    " \n",
    "    if x == \"*\":\n",
    "        return True\n",
    " \n",
    "    return False\n",
    "\n",
    "def postToPre(post_exp):\n",
    " \n",
    "    s = []\n",
    "    length = len(post_exp)\n",
    "    for i in range(length):\n",
    "        if (isOperator(post_exp[i])):\n",
    "            op1 = s[-1]\n",
    "            s.pop()\n",
    "            op2 = s[-1]\n",
    "            s.pop()\n",
    "            temp = post_exp[i] + op2 + op1\n",
    "            s.append(temp)\n",
    "        else:\n",
    "            s.append(post_exp[i])\n",
    " \n",
    "    \n",
    "    ans = \"\"\n",
    "    for i in s:\n",
    "        ans += i\n",
    "    return ans\n",
    " \n",
    "post_exp = \"AB+CD-\"\n",
    "print(\"Prefix : \", postToPre(post_exp))"
   ]
  },
  {
   "cell_type": "code",
   "execution_count": 17,
   "id": "1fbf4f7b",
   "metadata": {},
   "outputs": [
    {
     "name": "stdout",
     "output_type": "stream",
     "text": [
      "((A-(B/C))*((A/K)-L))\n"
     ]
    }
   ],
   "source": [
    "#Q7. Write a program to convert prefix expression to infix expression.\n",
    "\n",
    "def prefixToInfix(prefix):\n",
    "    stack = []\n",
    "    i = len(prefix) - 1\n",
    "    while i >= 0:\n",
    "        if not isOperator(prefix[i]):\n",
    "            stack.append(prefix[i])\n",
    "            i -= 1\n",
    "        else:\n",
    "            str = \"(\" + stack.pop() + prefix[i] + stack.pop() + \")\"\n",
    "            stack.append(str)\n",
    "            i -= 1\n",
    "     \n",
    "    return stack.pop()\n",
    " \n",
    "def isOperator(c):\n",
    "    if c == \"*\" or c == \"+\" or c == \"-\" or c == \"/\" or c == \"^\" or c == \"(\" or c == \")\":\n",
    "        return True\n",
    "    else:\n",
    "        return False\n",
    "str = \"*-A/BC-/AKL\"\n",
    "print(prefixToInfix(str))"
   ]
  },
  {
   "cell_type": "code",
   "execution_count": 19,
   "id": "709c1521",
   "metadata": {},
   "outputs": [
    {
     "name": "stdout",
     "output_type": "stream",
     "text": [
      "Not Balanced\n"
     ]
    }
   ],
   "source": [
    "#Q8. Write a program to check if all the brackets are closed in a given code snippet.\n",
    "\n",
    "def areBracketsBalanced(expr):\n",
    "    stack = []\n",
    "    for char in expr:\n",
    "        if char in [\"(\", \"{\", \"[\"]:\n",
    "            stack.append(char)\n",
    "        else:\n",
    "            if not stack:\n",
    "                return False\n",
    "            current_char = stack.pop()\n",
    "            if current_char == '(':\n",
    "                if char != \")\":\n",
    "                    return False\n",
    "            if current_char == '{':\n",
    "                if char != \"}\":\n",
    "                    return False\n",
    "            if current_char == '[':\n",
    "                if char != \"]\":\n",
    "                    return False\n",
    "\n",
    "    if stack:\n",
    "        return False\n",
    "    return True\n",
    "\n",
    "expr = \"{()}[}]\"\n",
    "if areBracketsBalanced(expr):\n",
    "    print(\"Balanced\")\n",
    "else:\n",
    "    print(\"Not Balanced\")"
   ]
  },
  {
   "cell_type": "code",
   "execution_count": 25,
   "id": "2bb73c29",
   "metadata": {},
   "outputs": [
    {
     "name": "stdout",
     "output_type": "stream",
     "text": [
      "Enter no of elements wants in stack :6\n",
      "1 no :1\n",
      "2 no :3\n",
      "3 no :5\n",
      "4 no :6\n",
      "5 no :7\n",
      "6 no :4\n",
      "Original Stack\n",
      "4\n",
      "7\n",
      "6\n",
      "5\n",
      "3\n",
      "1\n",
      "\n",
      "Stack after Reversing\n",
      "1\n",
      "3\n",
      "5\n",
      "6\n",
      "7\n",
      "4\n"
     ]
    }
   ],
   "source": [
    "# Q9. Write a program to reverse a stack.\n",
    "\n",
    "class Stack:\n",
    "    def __init__(self):\n",
    "        self.Elements = []\n",
    "    def push(self, value):\n",
    "        self.Elements.append(value)\n",
    "    def pop(self):\n",
    "        return self.Elements.pop()\n",
    "    def empty(self):\n",
    "        return self.Elements == []\n",
    "    def show(self):\n",
    "        for value in reversed(self.Elements):\n",
    "            print(value)\n",
    "\n",
    "def BottomInsert(s, value):\n",
    "    if s.empty():\n",
    "        s.push(value)\n",
    "    else:\n",
    "        popped = s.pop()\n",
    "        BottomInsert(s, value)\n",
    "        s.push(popped)\n",
    "        \n",
    "def Reverse(s):\n",
    "    if s.empty():\n",
    "        pass\n",
    "    else:\n",
    "        popped = s.pop()\n",
    "        Reverse(s)\n",
    "        BottomInsert(s, popped)\n",
    "        \n",
    "stk = Stack()\n",
    "x=int(input(\"Enter no of elements wants in stack :\"))\n",
    "for i in range(1,x+1):\n",
    "    stk.push(input(f\"{i} no :\"))\n",
    "\n",
    "print(\"Original Stack\")\n",
    "stk.show()\n",
    " \n",
    "print(\"\\nStack after Reversing\")\n",
    "Reverse(stk)\n",
    "stk.show()\n"
   ]
  },
  {
   "cell_type": "code",
   "execution_count": 44,
   "id": "115af75d",
   "metadata": {},
   "outputs": [
    {
     "name": "stdout",
     "output_type": "stream",
     "text": [
      "Enter no of elements wants in stack :3\n",
      "1 no :-4\n",
      "2 no :-6\n",
      "3 no :-3\n",
      "-6\n"
     ]
    }
   ],
   "source": [
    "#Q10. Write a program to find the smallest number using a stack.\n",
    "\n",
    "class MinStack(object):\n",
    "    min=float()\n",
    "    def __init__(self):\n",
    "        self.min=float()\n",
    "        self.stack = []\n",
    "    def push(self, x):\n",
    "        if x<=self.min:\n",
    "            self.stack.append(self.min)\n",
    "            self.min = x\n",
    "        self.stack.append(x)\n",
    "    def pop(self):\n",
    "        t = self.stack[-1]\n",
    "        self.stack.pop()\n",
    "        if self.min == t:\n",
    "            self.min = self.stack[-1]\n",
    "            self.stack.pop()\n",
    "    def top(self):\n",
    "        return self.stack[-1]\n",
    "    def getMin(self):\n",
    "        return self.min\n",
    "m = MinStack()\n",
    "x=int(input(\"Enter no of elements wants in stack :\"))\n",
    "for i in range(1,x+1):\n",
    "    m.push(int(input(f\"{i} no :\")))\n",
    "print(m.getMin())\n"
   ]
  },
  {
   "cell_type": "markdown",
   "id": "d8b7d1f4",
   "metadata": {},
   "source": [
    "### "
   ]
  },
  {
   "cell_type": "code",
   "execution_count": null,
   "id": "8c5694c7",
   "metadata": {},
   "outputs": [],
   "source": []
  }
 ],
 "metadata": {
  "kernelspec": {
   "display_name": "Python 3 (ipykernel)",
   "language": "python",
   "name": "python3"
  },
  "language_info": {
   "codemirror_mode": {
    "name": "ipython",
    "version": 3
   },
   "file_extension": ".py",
   "mimetype": "text/x-python",
   "name": "python",
   "nbconvert_exporter": "python",
   "pygments_lexer": "ipython3",
   "version": "3.9.12"
  }
 },
 "nbformat": 4,
 "nbformat_minor": 5
}
